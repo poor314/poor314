{
 "cells": [
  {
   "cell_type": "code",
   "execution_count": 3,
   "metadata": {},
   "outputs": [
    {
     "name": "stdout",
     "output_type": "stream",
     "text": [
      "[1, 1, 12, 26, 52, 78, 555]\n"
     ]
    }
   ],
   "source": [
    "A=[52,1,555,78,26,12,1]\n",
    "def quick_sort(A):   #先分三堆\n",
    "    smaller = []\n",
    "    bigger = []\n",
    "    keylist = []\n",
    "    if len(A)<=1:   #數列長度少於等於1，則直接回傳數列\n",
    "        return A\n",
    "    else: \n",
    "        key=A[0]    #以數列中第一個位置的數字為基準點\n",
    "        for i in A:\n",
    "            if i<key:       #小於key的數值放到smaller那堆\n",
    "                smaller.append(i)\n",
    "            elif i>key:     #大於key的數值放到bigger那堆\n",
    "                bigger.append(i)\n",
    "            else:\n",
    "                keylist.append(i)  #等於key的數值放到keylist那堆\n",
    "    smaller=quick_sort(smaller)    #smaller那堆再次執行quick_sort\n",
    "    bigger=quick_sort(bigger)      #bigger那堆再次執行quick_sort\n",
    "    \n",
    "    return smaller+keylist+bigger #回傳smaller+keylist+bigger的執行結果\n",
    "print (quick_sort(A))"
   ]
  },
  {
   "cell_type": "code",
   "execution_count": null,
   "metadata": {},
   "outputs": [],
   "source": []
  },
  {
   "cell_type": "code",
   "execution_count": null,
   "metadata": {},
   "outputs": [],
   "source": []
  }
 ],
 "metadata": {
  "kernelspec": {
   "display_name": "Python 3",
   "language": "python",
   "name": "python3"
  },
  "language_info": {
   "codemirror_mode": {
    "name": "ipython",
    "version": 3
   },
   "file_extension": ".py",
   "mimetype": "text/x-python",
   "name": "python",
   "nbconvert_exporter": "python",
   "pygments_lexer": "ipython3",
   "version": "3.6.5"
  }
 },
 "nbformat": 4,
 "nbformat_minor": 2
}
